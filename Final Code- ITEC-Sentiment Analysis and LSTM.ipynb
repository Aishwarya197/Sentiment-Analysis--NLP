{
 "cells": [
  {
   "cell_type": "code",
   "execution_count": 10,
   "id": "9f416265",
   "metadata": {},
   "outputs": [],
   "source": [
    "import yfinance as yf\n",
    "from textblob import TextBlob\n",
    "import tweepy \n",
    "from tweepy import OAuthHandler\n",
    "import os\n",
    "import sys\n",
    "import pandas as pd\n",
    "import numpy as np\n",
    "import datetime\n",
    "import matplotlib.pyplot as plt\n",
    "\n",
    "import tensorflow as tf\n",
    "from tensorflow.keras.models import Sequential\n",
    "from tensorflow.keras.layers import Dense\n",
    "from tensorflow.keras.layers import LSTM\n",
    "from tensorflow.keras.layers import Dropout"
   ]
  },
  {
   "cell_type": "code",
   "execution_count": 11,
   "id": "ad387229",
   "metadata": {},
   "outputs": [],
   "source": [
    "consumer_key = 'eAl6lT46SFrVTZXF01ua1dX00'\n",
    "consumer_secret = 'iXO9j0mVILdRoc50uX17uQ80JO6TdzBwRllJeEoi2MCjYBC5oL'\n",
    "access_token = '706417376275738624-GORsArmENkVkaCSxJFqGDC8MlZrcv36'\n",
    "access_token_secret = '8sOPjZ3VRtwOaDO1m3vRHOABKa0ha6crHSN9ivt6UWiIy'\n",
    "try: \n",
    "    # create OAuthHandler object \n",
    "    auth = tweepy.OAuthHandler(consumer_key, consumer_secret) \n",
    "    # set access token and secret \n",
    "    auth.set_access_token(access_token, access_token_secret)\n",
    "    # create tweepy API object to fetch tweets \n",
    "    api = tweepy.API(auth)\n",
    "except: \n",
    "    print(\"Error: Authentication Failed\")"
   ]
  },
  {
   "cell_type": "code",
   "execution_count": 14,
   "id": "398ecc73",
   "metadata": {},
   "outputs": [],
   "source": [
    "fetch_tweets=tweepy.Cursor(api.search_tweets, q=\"#AMZN\"or\"#Stock\",count=100, lang =\"en\",since_id=\"2021-9-13\", tweet_mode=\"extended\").items()\n",
    "data=pd.DataFrame(data=[[tweet_info.created_at.date(),tweet_info.full_text]for tweet_info in fetch_tweets],columns=['Date','Tweets'])"
   ]
  },
  {
   "cell_type": "code",
   "execution_count": 15,
   "id": "2d6f26ec",
   "metadata": {},
   "outputs": [
    {
     "data": {
      "text/html": [
       "<div>\n",
       "<style scoped>\n",
       "    .dataframe tbody tr th:only-of-type {\n",
       "        vertical-align: middle;\n",
       "    }\n",
       "\n",
       "    .dataframe tbody tr th {\n",
       "        vertical-align: top;\n",
       "    }\n",
       "\n",
       "    .dataframe thead th {\n",
       "        text-align: right;\n",
       "    }\n",
       "</style>\n",
       "<table border=\"1\" class=\"dataframe\">\n",
       "  <thead>\n",
       "    <tr style=\"text-align: right;\">\n",
       "      <th></th>\n",
       "      <th>Date</th>\n",
       "      <th>Tweets</th>\n",
       "    </tr>\n",
       "  </thead>\n",
       "  <tbody>\n",
       "    <tr>\n",
       "      <th>0</th>\n",
       "      <td>2022-04-14</td>\n",
       "      <td>$MELI\\nLosing trend line and rdy to close belo...</td>\n",
       "    </tr>\n",
       "    <tr>\n",
       "      <th>1</th>\n",
       "      <td>2022-04-14</td>\n",
       "      <td>Amazon CEO Andy Jassy’s 2021 Letter to Shareho...</td>\n",
       "    </tr>\n",
       "    <tr>\n",
       "      <th>2</th>\n",
       "      <td>2022-04-14</td>\n",
       "      <td>Amazon CEO: No plans to accept crypto anytime ...</td>\n",
       "    </tr>\n",
       "    <tr>\n",
       "      <th>3</th>\n",
       "      <td>2022-04-14</td>\n",
       "      <td>S&amp;amp;P 500 Technical Analysis 📈\\n\\nInverted H...</td>\n",
       "    </tr>\n",
       "    <tr>\n",
       "      <th>4</th>\n",
       "      <td>2022-04-14</td>\n",
       "      <td>Amazon (NASDAQ: AMZN) said Wednesday it’s addi...</td>\n",
       "    </tr>\n",
       "    <tr>\n",
       "      <th>...</th>\n",
       "      <td>...</td>\n",
       "      <td>...</td>\n",
       "    </tr>\n",
       "    <tr>\n",
       "      <th>280</th>\n",
       "      <td>2022-04-06</td>\n",
       "      <td>RT @MovingF94467288: She didn’t even have a na...</td>\n",
       "    </tr>\n",
       "    <tr>\n",
       "      <th>281</th>\n",
       "      <td>2022-04-06</td>\n",
       "      <td>$AMZN - #AMZN chart on @TradingView https://t....</td>\n",
       "    </tr>\n",
       "    <tr>\n",
       "      <th>282</th>\n",
       "      <td>2022-04-06</td>\n",
       "      <td>https://t.co/RDp9UH3WVN INC: We entered a 2022...</td>\n",
       "    </tr>\n",
       "    <tr>\n",
       "      <th>283</th>\n",
       "      <td>2022-04-06</td>\n",
       "      <td>S&amp;amp;P 500 ETF TRUST ETF: We entered a 2022-0...</td>\n",
       "    </tr>\n",
       "    <tr>\n",
       "      <th>284</th>\n",
       "      <td>2022-04-06</td>\n",
       "      <td>BARCLAYS BANK PLC: We entered a 2022-04-08 cal...</td>\n",
       "    </tr>\n",
       "  </tbody>\n",
       "</table>\n",
       "<p>285 rows × 2 columns</p>\n",
       "</div>"
      ],
      "text/plain": [
       "           Date                                             Tweets\n",
       "0    2022-04-14  $MELI\\nLosing trend line and rdy to close belo...\n",
       "1    2022-04-14  Amazon CEO Andy Jassy’s 2021 Letter to Shareho...\n",
       "2    2022-04-14  Amazon CEO: No plans to accept crypto anytime ...\n",
       "3    2022-04-14  S&amp;P 500 Technical Analysis 📈\\n\\nInverted H...\n",
       "4    2022-04-14  Amazon (NASDAQ: AMZN) said Wednesday it’s addi...\n",
       "..          ...                                                ...\n",
       "280  2022-04-06  RT @MovingF94467288: She didn’t even have a na...\n",
       "281  2022-04-06  $AMZN - #AMZN chart on @TradingView https://t....\n",
       "282  2022-04-06  https://t.co/RDp9UH3WVN INC: We entered a 2022...\n",
       "283  2022-04-06  S&amp;P 500 ETF TRUST ETF: We entered a 2022-0...\n",
       "284  2022-04-06  BARCLAYS BANK PLC: We entered a 2022-04-08 cal...\n",
       "\n",
       "[285 rows x 2 columns]"
      ]
     },
     "execution_count": 15,
     "metadata": {},
     "output_type": "execute_result"
    }
   ],
   "source": [
    "data"
   ]
  },
  {
   "cell_type": "code",
   "execution_count": 21,
   "id": "817fde05",
   "metadata": {},
   "outputs": [
    {
     "ename": "SyntaxError",
     "evalue": "Missing parentheses in call to 'print'. Did you mean print(True)? (Temp/ipykernel_26220/3367193845.py, line 21)",
     "output_type": "error",
     "traceback": [
      "\u001b[1;36m  File \u001b[1;32m\"C:\\Users\\aishw\\AppData\\Local\\Temp/ipykernel_26220/3367193845.py\"\u001b[1;36m, line \u001b[1;32m21\u001b[0m\n\u001b[1;33m    print True\u001b[0m\n\u001b[1;37m          ^\u001b[0m\n\u001b[1;31mSyntaxError\u001b[0m\u001b[1;31m:\u001b[0m Missing parentheses in call to 'print'. Did you mean print(True)?\n"
     ]
    }
   ],
   "source": [
    "polarity = 0\n",
    "positive = 0\n",
    "negative = 0\n",
    "neutral = 0\n",
    "null = 0\n",
    "for tweet in list_of_tweets:\n",
    "    analysis = TextBlob(tweet.text)\n",
    "    #print(analysis)\n",
    "    polarity = analysis.sentiment.polarity\n",
    "    #print(polarity)\n",
    "    if analysis.subjectivity == 0:  \n",
    "        null += 1\n",
    "        next\n",
    "    if polarity < 0:\n",
    "        negative += 1\n",
    "    elif polarity == 0:\n",
    "        neutral += 1\n",
    "    else:\n",
    "        positive += 1\n",
    "    if positive > ((num_tweets - null)/2):\n",
    "        print True"
   ]
  },
  {
   "cell_type": "code",
   "execution_count": 16,
   "id": "47ee01c2",
   "metadata": {},
   "outputs": [
    {
     "ename": "KeyboardInterrupt",
     "evalue": "Interrupted by user",
     "output_type": "error",
     "traceback": [
      "\u001b[1;31m---------------------------------------------------------------------------\u001b[0m",
      "\u001b[1;31mKeyboardInterrupt\u001b[0m                         Traceback (most recent call last)",
      "\u001b[1;32m~\\AppData\\Local\\Temp/ipykernel_26220/1224707602.py\u001b[0m in \u001b[0;36m<module>\u001b[1;34m\u001b[0m\n\u001b[1;32m----> 1\u001b[1;33m \u001b[0mquery\u001b[0m \u001b[1;33m=\u001b[0m \u001b[0minput\u001b[0m\u001b[1;33m(\u001b[0m\u001b[1;34m\"Please enter a stock quote from the CSV to perform the search: \"\u001b[0m\u001b[1;33m)\u001b[0m\u001b[1;33m.\u001b[0m\u001b[0mupper\u001b[0m\u001b[1;33m(\u001b[0m\u001b[1;33m)\u001b[0m\u001b[1;33m\u001b[0m\u001b[1;33m\u001b[0m\u001b[0m\n\u001b[0m\u001b[0;32m      2\u001b[0m \u001b[1;33m\u001b[0m\u001b[0m\n\u001b[0;32m      3\u001b[0m \u001b[1;32mdef\u001b[0m \u001b[0mstock_sentiment\u001b[0m\u001b[1;33m(\u001b[0m\u001b[0mquote\u001b[0m\u001b[1;33m,\u001b[0m \u001b[0mnum_tweets\u001b[0m\u001b[1;33m)\u001b[0m\u001b[1;33m:\u001b[0m\u001b[1;33m\u001b[0m\u001b[1;33m\u001b[0m\u001b[0m\n\u001b[0;32m      4\u001b[0m     \u001b[0mdate_since\u001b[0m \u001b[1;33m=\u001b[0m \u001b[1;33m(\u001b[0m\u001b[0mdatetime\u001b[0m\u001b[1;33m.\u001b[0m\u001b[0mdatetime\u001b[0m\u001b[1;33m.\u001b[0m\u001b[0mnow\u001b[0m\u001b[1;33m(\u001b[0m\u001b[1;33m)\u001b[0m \u001b[1;33m-\u001b[0m \u001b[0mdatetime\u001b[0m\u001b[1;33m.\u001b[0m\u001b[0mtimedelta\u001b[0m\u001b[1;33m(\u001b[0m\u001b[0mdays\u001b[0m\u001b[1;33m=\u001b[0m\u001b[1;36m30\u001b[0m\u001b[1;33m)\u001b[0m\u001b[1;33m)\u001b[0m\u001b[1;33m.\u001b[0m\u001b[0mdate\u001b[0m\u001b[1;33m(\u001b[0m\u001b[1;33m)\u001b[0m\u001b[1;33m\u001b[0m\u001b[1;33m\u001b[0m\u001b[0m\n\u001b[0;32m      5\u001b[0m     \u001b[0mlist_of_tweets\u001b[0m \u001b[1;33m=\u001b[0m \u001b[0mapi\u001b[0m\u001b[1;33m.\u001b[0m\u001b[0msearch_tweets\u001b[0m\u001b[1;33m(\u001b[0m\u001b[0mquote\u001b[0m\u001b[1;33m,\u001b[0m \u001b[0mcount\u001b[0m\u001b[1;33m=\u001b[0m\u001b[0mnum_tweets\u001b[0m\u001b[1;33m,\u001b[0m \u001b[0mlang\u001b[0m \u001b[1;33m=\u001b[0m\u001b[1;34m\"en\"\u001b[0m\u001b[1;33m,\u001b[0m \u001b[0msince_id\u001b[0m\u001b[1;33m=\u001b[0m \u001b[0mdate_since\u001b[0m\u001b[1;33m,\u001b[0m \u001b[0mtweet_mode\u001b[0m \u001b[1;33m=\u001b[0m \u001b[1;34m\"extended\"\u001b[0m\u001b[1;33m)\u001b[0m\u001b[1;33m\u001b[0m\u001b[1;33m\u001b[0m\u001b[0m\n",
      "\u001b[1;32m~\\anaconda3\\lib\\site-packages\\ipykernel\\kernelbase.py\u001b[0m in \u001b[0;36mraw_input\u001b[1;34m(self, prompt)\u001b[0m\n\u001b[0;32m   1004\u001b[0m                 \u001b[1;34m\"raw_input was called, but this frontend does not support input requests.\"\u001b[0m\u001b[1;33m\u001b[0m\u001b[1;33m\u001b[0m\u001b[0m\n\u001b[0;32m   1005\u001b[0m             )\n\u001b[1;32m-> 1006\u001b[1;33m         return self._input_request(\n\u001b[0m\u001b[0;32m   1007\u001b[0m             \u001b[0mstr\u001b[0m\u001b[1;33m(\u001b[0m\u001b[0mprompt\u001b[0m\u001b[1;33m)\u001b[0m\u001b[1;33m,\u001b[0m\u001b[1;33m\u001b[0m\u001b[1;33m\u001b[0m\u001b[0m\n\u001b[0;32m   1008\u001b[0m             \u001b[0mself\u001b[0m\u001b[1;33m.\u001b[0m\u001b[0m_parent_ident\u001b[0m\u001b[1;33m[\u001b[0m\u001b[1;34m\"shell\"\u001b[0m\u001b[1;33m]\u001b[0m\u001b[1;33m,\u001b[0m\u001b[1;33m\u001b[0m\u001b[1;33m\u001b[0m\u001b[0m\n",
      "\u001b[1;32m~\\anaconda3\\lib\\site-packages\\ipykernel\\kernelbase.py\u001b[0m in \u001b[0;36m_input_request\u001b[1;34m(self, prompt, ident, parent, password)\u001b[0m\n\u001b[0;32m   1049\u001b[0m             \u001b[1;32mexcept\u001b[0m \u001b[0mKeyboardInterrupt\u001b[0m\u001b[1;33m:\u001b[0m\u001b[1;33m\u001b[0m\u001b[1;33m\u001b[0m\u001b[0m\n\u001b[0;32m   1050\u001b[0m                 \u001b[1;31m# re-raise KeyboardInterrupt, to truncate traceback\u001b[0m\u001b[1;33m\u001b[0m\u001b[1;33m\u001b[0m\u001b[0m\n\u001b[1;32m-> 1051\u001b[1;33m                 \u001b[1;32mraise\u001b[0m \u001b[0mKeyboardInterrupt\u001b[0m\u001b[1;33m(\u001b[0m\u001b[1;34m\"Interrupted by user\"\u001b[0m\u001b[1;33m)\u001b[0m \u001b[1;32mfrom\u001b[0m \u001b[1;32mNone\u001b[0m\u001b[1;33m\u001b[0m\u001b[1;33m\u001b[0m\u001b[0m\n\u001b[0m\u001b[0;32m   1052\u001b[0m             \u001b[1;32mexcept\u001b[0m \u001b[0mException\u001b[0m\u001b[1;33m:\u001b[0m\u001b[1;33m\u001b[0m\u001b[1;33m\u001b[0m\u001b[0m\n\u001b[0;32m   1053\u001b[0m                 \u001b[0mself\u001b[0m\u001b[1;33m.\u001b[0m\u001b[0mlog\u001b[0m\u001b[1;33m.\u001b[0m\u001b[0mwarning\u001b[0m\u001b[1;33m(\u001b[0m\u001b[1;34m\"Invalid Message:\"\u001b[0m\u001b[1;33m,\u001b[0m \u001b[0mexc_info\u001b[0m\u001b[1;33m=\u001b[0m\u001b[1;32mTrue\u001b[0m\u001b[1;33m)\u001b[0m\u001b[1;33m\u001b[0m\u001b[1;33m\u001b[0m\u001b[0m\n",
      "\u001b[1;31mKeyboardInterrupt\u001b[0m: Interrupted by user"
     ]
    }
   ],
   "source": [
    "query = input(\"Please enter a stock quote from the CSV to perform the search: \").upper()\n",
    "\n",
    "def stock_sentiment(quote, num_tweets):\n",
    "    date_since = (datetime.datetime.now() - datetime.timedelta(days=30)).date()\n",
    "    list_of_tweets = api.search_tweets(quote, count=num_tweets, lang =\"en\", since_id= date_since, tweet_mode = \"extended\")\n",
    "    polarity = 0\n",
    "    positive = 0\n",
    "    negative = 0\n",
    "    neutral = 0\n",
    "    null = 0\n",
    "    for tweet in list_of_tweets:\n",
    "        analysis = TextBlob(tweet.text)\n",
    "        #print(analysis)\n",
    "        polarity = analysis.sentiment.polarity\n",
    "        #print(polarity)\n",
    "        if analysis.subjectivity == 0:  \n",
    "            null += 1\n",
    "            next\n",
    "        if polarity < 0:\n",
    "            negative += 1\n",
    "        elif polarity == 0:\n",
    "            neutral += 1\n",
    "        else:\n",
    "            positive += 1\n",
    "        if positive > ((num_tweets - null)/2):\n",
    "            return True"
   ]
  },
  {
   "cell_type": "code",
   "execution_count": 5,
   "id": "d69eef01",
   "metadata": {},
   "outputs": [],
   "source": [
    "from sklearn.preprocessing import MinMaxScaler"
   ]
  },
  {
   "cell_type": "code",
   "execution_count": 6,
   "id": "ab20f9de",
   "metadata": {},
   "outputs": [
    {
     "name": "stdout",
     "output_type": "stream",
     "text": [
      "data is loaded\n"
     ]
    }
   ],
   "source": [
    "df=pd.read_csv(r\"C:\\Users\\aishw\\Downloads\\AMZN (7).csv\")\n",
    "print(\"data is loaded\")"
   ]
  },
  {
   "cell_type": "code",
   "execution_count": 7,
   "id": "406ea6d6",
   "metadata": {},
   "outputs": [
    {
     "data": {
      "text/html": [
       "<div>\n",
       "<style scoped>\n",
       "    .dataframe tbody tr th:only-of-type {\n",
       "        vertical-align: middle;\n",
       "    }\n",
       "\n",
       "    .dataframe tbody tr th {\n",
       "        vertical-align: top;\n",
       "    }\n",
       "\n",
       "    .dataframe thead th {\n",
       "        text-align: right;\n",
       "    }\n",
       "</style>\n",
       "<table border=\"1\" class=\"dataframe\">\n",
       "  <thead>\n",
       "    <tr style=\"text-align: right;\">\n",
       "      <th></th>\n",
       "      <th>Date</th>\n",
       "      <th>Open</th>\n",
       "      <th>High</th>\n",
       "      <th>Low</th>\n",
       "      <th>Close</th>\n",
       "      <th>Adj Close</th>\n",
       "      <th>Volume</th>\n",
       "    </tr>\n",
       "  </thead>\n",
       "  <tbody>\n",
       "    <tr>\n",
       "      <th>0</th>\n",
       "      <td>13-04-2021</td>\n",
       "      <td>3400.850098</td>\n",
       "      <td>3432.000000</td>\n",
       "      <td>3395.629883</td>\n",
       "      <td>3400.000000</td>\n",
       "      <td>3400.000000</td>\n",
       "      <td>3315800</td>\n",
       "    </tr>\n",
       "    <tr>\n",
       "      <th>1</th>\n",
       "      <td>14-04-2021</td>\n",
       "      <td>3404.040039</td>\n",
       "      <td>3404.129883</td>\n",
       "      <td>3326.000000</td>\n",
       "      <td>3333.000000</td>\n",
       "      <td>3333.000000</td>\n",
       "      <td>3145200</td>\n",
       "    </tr>\n",
       "    <tr>\n",
       "      <th>2</th>\n",
       "      <td>15-04-2021</td>\n",
       "      <td>3371.000000</td>\n",
       "      <td>3397.000000</td>\n",
       "      <td>3352.000000</td>\n",
       "      <td>3379.090088</td>\n",
       "      <td>3379.090088</td>\n",
       "      <td>3233600</td>\n",
       "    </tr>\n",
       "    <tr>\n",
       "      <th>3</th>\n",
       "      <td>16-04-2021</td>\n",
       "      <td>3380.000000</td>\n",
       "      <td>3406.800049</td>\n",
       "      <td>3355.590088</td>\n",
       "      <td>3399.439941</td>\n",
       "      <td>3399.439941</td>\n",
       "      <td>3186000</td>\n",
       "    </tr>\n",
       "    <tr>\n",
       "      <th>4</th>\n",
       "      <td>19-04-2021</td>\n",
       "      <td>3390.330078</td>\n",
       "      <td>3435.929932</td>\n",
       "      <td>3360.159912</td>\n",
       "      <td>3372.010010</td>\n",
       "      <td>3372.010010</td>\n",
       "      <td>2725400</td>\n",
       "    </tr>\n",
       "  </tbody>\n",
       "</table>\n",
       "</div>"
      ],
      "text/plain": [
       "         Date         Open         High          Low        Close  \\\n",
       "0  13-04-2021  3400.850098  3432.000000  3395.629883  3400.000000   \n",
       "1  14-04-2021  3404.040039  3404.129883  3326.000000  3333.000000   \n",
       "2  15-04-2021  3371.000000  3397.000000  3352.000000  3379.090088   \n",
       "3  16-04-2021  3380.000000  3406.800049  3355.590088  3399.439941   \n",
       "4  19-04-2021  3390.330078  3435.929932  3360.159912  3372.010010   \n",
       "\n",
       "     Adj Close   Volume  \n",
       "0  3400.000000  3315800  \n",
       "1  3333.000000  3145200  \n",
       "2  3379.090088  3233600  \n",
       "3  3399.439941  3186000  \n",
       "4  3372.010010  2725400  "
      ]
     },
     "execution_count": 7,
     "metadata": {},
     "output_type": "execute_result"
    }
   ],
   "source": [
    "df.head(5)"
   ]
  },
  {
   "cell_type": "code",
   "execution_count": 8,
   "id": "bb21eac8",
   "metadata": {},
   "outputs": [
    {
     "data": {
      "text/html": [
       "<div>\n",
       "<style scoped>\n",
       "    .dataframe tbody tr th:only-of-type {\n",
       "        vertical-align: middle;\n",
       "    }\n",
       "\n",
       "    .dataframe tbody tr th {\n",
       "        vertical-align: top;\n",
       "    }\n",
       "\n",
       "    .dataframe thead th {\n",
       "        text-align: right;\n",
       "    }\n",
       "</style>\n",
       "<table border=\"1\" class=\"dataframe\">\n",
       "  <thead>\n",
       "    <tr style=\"text-align: right;\">\n",
       "      <th></th>\n",
       "      <th>Date</th>\n",
       "      <th>Open</th>\n",
       "      <th>High</th>\n",
       "      <th>Low</th>\n",
       "      <th>Close</th>\n",
       "      <th>Adj Close</th>\n",
       "      <th>Volume</th>\n",
       "    </tr>\n",
       "  </thead>\n",
       "  <tbody>\n",
       "    <tr>\n",
       "      <th>249</th>\n",
       "      <td>06-04-2022</td>\n",
       "      <td>3233.010010</td>\n",
       "      <td>3244.000000</td>\n",
       "      <td>3145.090088</td>\n",
       "      <td>3175.120117</td>\n",
       "      <td>3175.120117</td>\n",
       "      <td>3952800</td>\n",
       "    </tr>\n",
       "    <tr>\n",
       "      <th>250</th>\n",
       "      <td>07-04-2022</td>\n",
       "      <td>3168.000000</td>\n",
       "      <td>3201.580078</td>\n",
       "      <td>3090.229980</td>\n",
       "      <td>3155.689941</td>\n",
       "      <td>3155.689941</td>\n",
       "      <td>3406800</td>\n",
       "    </tr>\n",
       "    <tr>\n",
       "      <th>251</th>\n",
       "      <td>08-04-2022</td>\n",
       "      <td>3135.000000</td>\n",
       "      <td>3147.370117</td>\n",
       "      <td>3084.620117</td>\n",
       "      <td>3089.209961</td>\n",
       "      <td>3089.209961</td>\n",
       "      <td>2295100</td>\n",
       "    </tr>\n",
       "    <tr>\n",
       "      <th>252</th>\n",
       "      <td>11-04-2022</td>\n",
       "      <td>3054.260010</td>\n",
       "      <td>3082.729980</td>\n",
       "      <td>3010.689941</td>\n",
       "      <td>3022.439941</td>\n",
       "      <td>3022.439941</td>\n",
       "      <td>2605600</td>\n",
       "    </tr>\n",
       "    <tr>\n",
       "      <th>253</th>\n",
       "      <td>12-04-2022</td>\n",
       "      <td>3073.850098</td>\n",
       "      <td>3101.979980</td>\n",
       "      <td>3007.659912</td>\n",
       "      <td>3015.750000</td>\n",
       "      <td>3015.750000</td>\n",
       "      <td>2758900</td>\n",
       "    </tr>\n",
       "  </tbody>\n",
       "</table>\n",
       "</div>"
      ],
      "text/plain": [
       "           Date         Open         High          Low        Close  \\\n",
       "249  06-04-2022  3233.010010  3244.000000  3145.090088  3175.120117   \n",
       "250  07-04-2022  3168.000000  3201.580078  3090.229980  3155.689941   \n",
       "251  08-04-2022  3135.000000  3147.370117  3084.620117  3089.209961   \n",
       "252  11-04-2022  3054.260010  3082.729980  3010.689941  3022.439941   \n",
       "253  12-04-2022  3073.850098  3101.979980  3007.659912  3015.750000   \n",
       "\n",
       "       Adj Close   Volume  \n",
       "249  3175.120117  3952800  \n",
       "250  3155.689941  3406800  \n",
       "251  3089.209961  2295100  \n",
       "252  3022.439941  2605600  \n",
       "253  3015.750000  2758900  "
      ]
     },
     "execution_count": 8,
     "metadata": {},
     "output_type": "execute_result"
    }
   ],
   "source": [
    "df.tail(5)"
   ]
  },
  {
   "cell_type": "code",
   "execution_count": 94,
   "id": "057b205c",
   "metadata": {},
   "outputs": [
    {
     "name": "stdout",
     "output_type": "stream",
     "text": [
      "0      3400.000000\n",
      "1      3333.000000\n",
      "2      3379.090088\n",
      "3      3399.439941\n",
      "4      3372.010010\n",
      "          ...     \n",
      "249    3175.120117\n",
      "250    3155.689941\n",
      "251    3089.209961\n",
      "252    3022.439941\n",
      "253    3015.750000\n",
      "Name: Close, Length: 254, dtype: float64\n"
     ]
    }
   ],
   "source": [
    "df1= df.reset_index()[\"Close\"]\n",
    "print(df1)"
   ]
  },
  {
   "cell_type": "code",
   "execution_count": 95,
   "id": "c25732a9",
   "metadata": {},
   "outputs": [
    {
     "data": {
      "text/plain": [
       "Text(0, 0.5, 'Closing Price')"
      ]
     },
     "execution_count": 95,
     "metadata": {},
     "output_type": "execute_result"
    },
    {
     "data": {
      "image/png": "[encoded data removed]",
      "text/plain": [
       "<Figure size 432x288 with 1 Axes>"
      ]
     },
     "metadata": {
      "needs_background": "light"
     },
     "output_type": "display_data"
    }
   ],
   "source": [
    "plt.plot(df1)\n",
    "plt.xlabel(\"Days\")\n",
    "plt.ylabel(\"Closing Price\")"
   ]
  },
  {
   "cell_type": "code",
   "execution_count": 88,
   "id": "3089b4f6",
   "metadata": {},
   "outputs": [],
   "source": [
    "scaler=MinMaxScaler(feature_range=(0,1))\n",
    "df1=scaler.fit_transform(np.array(df1).reshape(-1,1))"
   ]
  },
  {
   "cell_type": "code",
   "execution_count": 89,
   "id": "498ca401",
   "metadata": {},
   "outputs": [],
   "source": [
    "time_step = 100\n",
    "trainX, trainY = create_dataset(df1, time_step)\n",
    "trainX =trainX.reshape(trainX.shape[0],trainX.shape[1] , 1)\n"
   ]
  },
  {
   "cell_type": "code",
   "execution_count": 90,
   "id": "f310fb6e",
   "metadata": {},
   "outputs": [],
   "source": [
    "model = Sequential()\n",
    "model.add(LSTM(50,return_sequences=True,input_shape=(100,1)))\n",
    "model.add(Dropout(0.2))\n",
    "model.add(LSTM(50,return_sequences=True))\n",
    "model.add(Dropout(0.2))\n",
    "model.add(LSTM(50))\n",
    "model.add(Dropout(0.2))\t\n",
    "model.add(Dense(1))   \n",
    "model.compile(loss='mean_squared_error', optimizer='adam')"
   ]
  },
  {
   "cell_type": "code",
   "execution_count": 91,
   "id": "a876774d",
   "metadata": {},
   "outputs": [
    {
     "name": "stdout",
     "output_type": "stream",
     "text": [
      "Epoch 1/50\n",
      "7/7 - 9s - loss: 0.2079 - 9s/epoch - 1s/step\n",
      "Epoch 2/50\n",
      "7/7 - 1s - loss: 0.0630 - 985ms/epoch - 141ms/step\n",
      "Epoch 3/50\n",
      "7/7 - 1s - loss: 0.0419 - 1s/epoch - 150ms/step\n",
      "Epoch 4/50\n",
      "7/7 - 1s - loss: 0.0331 - 1s/epoch - 147ms/step\n",
      "Epoch 5/50\n",
      "7/7 - 1s - loss: 0.0357 - 946ms/epoch - 135ms/step\n",
      "Epoch 6/50\n",
      "7/7 - 1s - loss: 0.0321 - 850ms/epoch - 121ms/step\n",
      "Epoch 7/50\n",
      "7/7 - 1s - loss: 0.0295 - 877ms/epoch - 125ms/step\n",
      "Epoch 8/50\n",
      "7/7 - 1s - loss: 0.0310 - 881ms/epoch - 126ms/step\n",
      "Epoch 9/50\n",
      "7/7 - 1s - loss: 0.0315 - 897ms/epoch - 128ms/step\n",
      "Epoch 10/50\n",
      "7/7 - 1s - loss: 0.0323 - 816ms/epoch - 117ms/step\n",
      "Epoch 11/50\n",
      "7/7 - 1s - loss: 0.0308 - 844ms/epoch - 121ms/step\n",
      "Epoch 12/50\n",
      "7/7 - 1s - loss: 0.0268 - 842ms/epoch - 120ms/step\n",
      "Epoch 13/50\n",
      "7/7 - 1s - loss: 0.0305 - 913ms/epoch - 130ms/step\n",
      "Epoch 14/50\n",
      "7/7 - 1s - loss: 0.0258 - 928ms/epoch - 133ms/step\n",
      "Epoch 15/50\n",
      "7/7 - 1s - loss: 0.0255 - 903ms/epoch - 129ms/step\n",
      "Epoch 16/50\n",
      "7/7 - 1s - loss: 0.0266 - 1s/epoch - 144ms/step\n",
      "Epoch 17/50\n",
      "7/7 - 1s - loss: 0.0250 - 907ms/epoch - 130ms/step\n",
      "Epoch 18/50\n",
      "7/7 - 1s - loss: 0.0253 - 910ms/epoch - 130ms/step\n",
      "Epoch 19/50\n",
      "7/7 - 1s - loss: 0.0254 - 867ms/epoch - 124ms/step\n",
      "Epoch 20/50\n",
      "7/7 - 1s - loss: 0.0227 - 862ms/epoch - 123ms/step\n",
      "Epoch 21/50\n",
      "7/7 - 1s - loss: 0.0234 - 867ms/epoch - 124ms/step\n",
      "Epoch 22/50\n",
      "7/7 - 1s - loss: 0.0218 - 876ms/epoch - 125ms/step\n",
      "Epoch 23/50\n",
      "7/7 - 1s - loss: 0.0221 - 820ms/epoch - 117ms/step\n",
      "Epoch 24/50\n",
      "7/7 - 1s - loss: 0.0211 - 804ms/epoch - 115ms/step\n",
      "Epoch 25/50\n",
      "7/7 - 1s - loss: 0.0226 - 822ms/epoch - 117ms/step\n",
      "Epoch 26/50\n",
      "7/7 - 1s - loss: 0.0217 - 824ms/epoch - 118ms/step\n",
      "Epoch 27/50\n",
      "7/7 - 1s - loss: 0.0211 - 826ms/epoch - 118ms/step\n",
      "Epoch 28/50\n",
      "7/7 - 1s - loss: 0.0205 - 812ms/epoch - 116ms/step\n",
      "Epoch 29/50\n",
      "7/7 - 1s - loss: 0.0213 - 850ms/epoch - 121ms/step\n",
      "Epoch 30/50\n",
      "7/7 - 1s - loss: 0.0210 - 838ms/epoch - 120ms/step\n",
      "Epoch 31/50\n",
      "7/7 - 1s - loss: 0.0237 - 869ms/epoch - 124ms/step\n",
      "Epoch 32/50\n",
      "7/7 - 1s - loss: 0.0203 - 917ms/epoch - 131ms/step\n",
      "Epoch 33/50\n",
      "7/7 - 1s - loss: 0.0192 - 904ms/epoch - 129ms/step\n",
      "Epoch 34/50\n",
      "7/7 - 1s - loss: 0.0191 - 905ms/epoch - 129ms/step\n",
      "Epoch 35/50\n",
      "7/7 - 1s - loss: 0.0176 - 865ms/epoch - 124ms/step\n",
      "Epoch 36/50\n",
      "7/7 - 1s - loss: 0.0183 - 825ms/epoch - 118ms/step\n",
      "Epoch 37/50\n",
      "7/7 - 1s - loss: 0.0186 - 797ms/epoch - 114ms/step\n",
      "Epoch 38/50\n",
      "7/7 - 1s - loss: 0.0184 - 805ms/epoch - 115ms/step\n",
      "Epoch 39/50\n",
      "7/7 - 1s - loss: 0.0175 - 802ms/epoch - 115ms/step\n",
      "Epoch 40/50\n",
      "7/7 - 1s - loss: 0.0172 - 787ms/epoch - 112ms/step\n",
      "Epoch 41/50\n",
      "7/7 - 1s - loss: 0.0167 - 761ms/epoch - 109ms/step\n",
      "Epoch 42/50\n",
      "7/7 - 1s - loss: 0.0168 - 765ms/epoch - 109ms/step\n",
      "Epoch 43/50\n",
      "7/7 - 1s - loss: 0.0178 - 769ms/epoch - 110ms/step\n",
      "Epoch 44/50\n",
      "7/7 - 1s - loss: 0.0201 - 765ms/epoch - 109ms/step\n",
      "Epoch 45/50\n",
      "7/7 - 1s - loss: 0.0205 - 749ms/epoch - 107ms/step\n",
      "Epoch 46/50\n",
      "7/7 - 1s - loss: 0.0150 - 757ms/epoch - 108ms/step\n",
      "Epoch 47/50\n",
      "7/7 - 1s - loss: 0.0181 - 735ms/epoch - 105ms/step\n",
      "Epoch 48/50\n",
      "7/7 - 1s - loss: 0.0150 - 735ms/epoch - 105ms/step\n",
      "Epoch 49/50\n",
      "7/7 - 1s - loss: 0.0175 - 782ms/epoch - 112ms/step\n",
      "Epoch 50/50\n",
      "7/7 - 1s - loss: 0.0137 - 733ms/epoch - 105ms/step\n"
     ]
    },
    {
     "data": {
      "text/plain": [
       "<keras.callbacks.History at 0x1d3536b0850>"
      ]
     },
     "execution_count": 91,
     "metadata": {},
     "output_type": "execute_result"
    }
   ],
   "source": [
    "model.fit(trainX, trainY, epochs=50, batch_size=25, verbose=2)"
   ]
  },
  {
   "cell_type": "code",
   "execution_count": 96,
   "id": "c29eaff9",
   "metadata": {},
   "outputs": [],
   "source": [
    "train_predict=model.predict(trainX)\n",
    "train_predict=scaler.inverse_transform(train_predict)\n",
    "array_length = len(train_predict)\n",
    "val = train_predict[array_length - 1]"
   ]
  },
  {
   "cell_type": "code",
   "execution_count": 1,
   "id": "7f89bb46",
   "metadata": {},
   "outputs": [
    {
     "ename": "NameError",
     "evalue": "name 'df' is not defined",
     "output_type": "error",
     "traceback": [
      "\u001b[1;31m---------------------------------------------------------------------------\u001b[0m",
      "\u001b[1;31mNameError\u001b[0m                                 Traceback (most recent call last)",
      "\u001b[1;32m~\\AppData\\Local\\Temp/ipykernel_25048/112322439.py\u001b[0m in \u001b[0;36m<module>\u001b[1;34m\u001b[0m\n\u001b[1;32m----> 1\u001b[1;33m \u001b[0mresult\u001b[0m \u001b[1;33m=\u001b[0m \u001b[0mprint\u001b[0m\u001b[1;33m(\u001b[0m\u001b[1;34m\"The price will move from\"\u001b[0m\u001b[1;33m,\u001b[0m \u001b[1;33m(\u001b[0m\u001b[0mdf\u001b[0m\u001b[1;33m[\u001b[0m\u001b[1;34m'Close'\u001b[0m\u001b[1;33m]\u001b[0m\u001b[1;33m.\u001b[0m\u001b[0miloc\u001b[0m\u001b[1;33m[\u001b[0m\u001b[1;33m-\u001b[0m\u001b[1;36m1\u001b[0m\u001b[1;33m]\u001b[0m\u001b[1;33m)\u001b[0m\u001b[1;33m,\u001b[0m\u001b[1;34m\"to\"\u001b[0m \u001b[1;33m,\u001b[0m \u001b[0mstr\u001b[0m\u001b[1;33m(\u001b[0m\u001b[0mval\u001b[0m\u001b[1;33m)\u001b[0m\u001b[1;33m[\u001b[0m\u001b[1;36m1\u001b[0m\u001b[1;33m:\u001b[0m\u001b[1;33m-\u001b[0m\u001b[1;36m1\u001b[0m\u001b[1;33m]\u001b[0m\u001b[1;33m)\u001b[0m\u001b[1;33m\u001b[0m\u001b[1;33m\u001b[0m\u001b[0m\n\u001b[0m",
      "\u001b[1;31mNameError\u001b[0m: name 'df' is not defined"
     ]
    }
   ],
   "source": [
    "result = print(\"The price will move from\", (df['Close'].iloc[-1]),\"to\" , str(val)[1:-1])"
   ]
  },
  {
   "cell_type": "code",
   "execution_count": null,
   "id": "4fee213d",
   "metadata": {},
   "outputs": [],
   "source": [
    "look_back=50\n",
    "trainpredictionplot = numpy.empty_like(af1)\n",
    "trainpredictionplot[:,:]= np.nan\n",
    "trainpredictionplot[look_back:len(training_predict)+look_back,:]= training_predict\n",
    "\n",
    "testpredictionplot = numpy.empty_like(af1)\n",
    "testpredictionplot[:,:]= np.nan\n",
    "testpredictionplot[len(training_predict)+(look_back*2)+1:len(af1)-1,:]= testing_predict\n",
    "\n",
    "plt.plot(scaler.inverse_transform(af1))\n",
    "plt.plot(trainpredictionplot)\n",
    "plt.plot(testpredictionplot)\n",
    "plt.xlabel(\"Days\")\n",
    "plt.ylabel(\"Closing Price\")\n",
    "plt.title(\"STOCK PREDICTION USING LSTM AND SENTIMENT ANALYSIS\")\n",
    "plt.legend([\"Original data\",\"Actual Value\",\"Predicted value\"])\n",
    "plt.show()"
   ]
  },
  {
   "cell_type": "code",
   "execution_count": 71,
   "id": "422fa6b0",
   "metadata": {},
   "outputs": [
    {
     "name": "stderr",
     "output_type": "stream",
     "text": [
      "Unexpected parameter: since\n"
     ]
    },
    {
     "ename": "AttributeError",
     "evalue": "'Status' object has no attribute 'text'",
     "output_type": "error",
     "traceback": [
      "\u001b[1;31m---------------------------------------------------------------------------\u001b[0m",
      "\u001b[1;31mAttributeError\u001b[0m                            Traceback (most recent call last)",
      "\u001b[1;32m~\\AppData\\Local\\Temp/ipykernel_31192/3208281467.py\u001b[0m in \u001b[0;36m<module>\u001b[1;34m\u001b[0m\n\u001b[1;32m----> 1\u001b[1;33m \u001b[1;32mif\u001b[0m \u001b[1;32mnot\u001b[0m \u001b[0mstock_sentiment\u001b[0m\u001b[1;33m(\u001b[0m\u001b[0mquery\u001b[0m\u001b[1;33m,\u001b[0m \u001b[0mnum_tweets\u001b[0m\u001b[1;33m=\u001b[0m\u001b[1;36m100\u001b[0m\u001b[1;33m)\u001b[0m\u001b[1;33m:\u001b[0m\u001b[1;33m\u001b[0m\u001b[1;33m\u001b[0m\u001b[0m\n\u001b[0m\u001b[0;32m      2\u001b[0m     \u001b[0mprint\u001b[0m\u001b[1;33m(\u001b[0m\u001b[1;34m'This stock has bad sentiment, please re-run the script'\u001b[0m\u001b[1;33m)\u001b[0m\u001b[1;33m\u001b[0m\u001b[1;33m\u001b[0m\u001b[0m\n\u001b[0;32m      3\u001b[0m     \u001b[0msys\u001b[0m\u001b[1;33m.\u001b[0m\u001b[0mexit\u001b[0m\u001b[1;33m(\u001b[0m\u001b[1;33m)\u001b[0m\u001b[1;33m\u001b[0m\u001b[1;33m\u001b[0m\u001b[0m\n",
      "\u001b[1;32m~\\AppData\\Local\\Temp/ipykernel_31192/1918723514.py\u001b[0m in \u001b[0;36mstock_sentiment\u001b[1;34m(quote, num_tweets)\u001b[0m\n\u001b[0;32m     10\u001b[0m     \u001b[0mnull\u001b[0m \u001b[1;33m=\u001b[0m \u001b[1;36m0\u001b[0m\u001b[1;33m\u001b[0m\u001b[1;33m\u001b[0m\u001b[0m\n\u001b[0;32m     11\u001b[0m     \u001b[1;32mfor\u001b[0m \u001b[0mtweet\u001b[0m \u001b[1;32min\u001b[0m \u001b[0mlist_of_tweets\u001b[0m\u001b[1;33m:\u001b[0m\u001b[1;33m\u001b[0m\u001b[1;33m\u001b[0m\u001b[0m\n\u001b[1;32m---> 12\u001b[1;33m         \u001b[0manalysis\u001b[0m \u001b[1;33m=\u001b[0m \u001b[0mTextBlob\u001b[0m\u001b[1;33m(\u001b[0m\u001b[0mtweet\u001b[0m\u001b[1;33m.\u001b[0m\u001b[0mtext\u001b[0m\u001b[1;33m)\u001b[0m\u001b[1;33m\u001b[0m\u001b[1;33m\u001b[0m\u001b[0m\n\u001b[0m\u001b[0;32m     13\u001b[0m         \u001b[1;31m#print(analysis)\u001b[0m\u001b[1;33m\u001b[0m\u001b[1;33m\u001b[0m\u001b[0m\n\u001b[0;32m     14\u001b[0m         \u001b[0mpolarity\u001b[0m \u001b[1;33m=\u001b[0m \u001b[0manalysis\u001b[0m\u001b[1;33m.\u001b[0m\u001b[0msentiment\u001b[0m\u001b[1;33m.\u001b[0m\u001b[0mpolarity\u001b[0m\u001b[1;33m\u001b[0m\u001b[1;33m\u001b[0m\u001b[0m\n",
      "\u001b[1;31mAttributeError\u001b[0m: 'Status' object has no attribute 'text'"
     ]
    }
   ],
   "source": [
    "if not stock_sentiment(query, num_tweets=100):\n",
    "    print('This stock has bad sentiment, please re-run the script')\n",
    "    sys.exit()"
   ]
  },
  {
   "cell_type": "code",
   "execution_count": 68,
   "id": "3e1a8dc6",
   "metadata": {},
   "outputs": [],
   "source": [
    "if not get_historical(query):\n",
    "    print('Google returned a 404, please re-run the script and')\n",
    "    print('enter a valid stock quote from NASDAQ')\n",
    "    sys.exit() "
   ]
  },
  {
   "cell_type": "code",
   "execution_count": 69,
   "id": "010206a8",
   "metadata": {},
   "outputs": [
    {
     "name": "stdout",
     "output_type": "stream",
     "text": [
      "None\n"
     ]
    }
   ],
   "source": [
    "print(stock_prediction())"
   ]
  }
 ],
 "metadata": {
  "kernelspec": {
   "display_name": "Python 3 (ipykernel)",
   "language": "python",
   "name": "python3"
  },
  "language_info": {
   "codemirror_mode": {
    "name": "ipython",
    "version": 3
   },
   "file_extension": ".py",
   "mimetype": "text/x-python",
   "name": "python",
   "nbconvert_exporter": "python",
   "pygments_lexer": "ipython3",
   "version": "3.9.7"
  }
 },
 "nbformat": 4,
 "nbformat_minor": 5
}
